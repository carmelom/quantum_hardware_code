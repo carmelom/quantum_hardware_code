{
 "cells": [
  {
   "cell_type": "markdown",
   "metadata": {},
   "source": [
    "# Estimate the parameters of a linear Paul trap"
   ]
  },
  {
   "cell_type": "code",
   "execution_count": 2,
   "metadata": {},
   "outputs": [],
   "source": [
    "import pint\n",
    "ureg = pint.get_application_registry()\n",
    "ureg.formatter.default_format = \".3fP\"\n",
    "\n",
    "import numpy as np\n"
   ]
  },
  {
   "cell_type": "code",
   "execution_count": 12,
   "metadata": {},
   "outputs": [
    {
     "name": "stdout",
     "output_type": "stream",
     "text": [
      "a_r = -9.78e-04 dimensionless\n",
      "q = 1.04e-01 dimensionless\n",
      "beta = 6.68e-02 dimensionless\n",
      "omega_z = 2pi 1.105 megahertz\n",
      "omega_r = 2pi 1.669 megahertz\n",
      "\n"
     ]
    }
   ],
   "source": [
    "M = 40 * ureg.amu\n",
    "Q = 1 * ureg.e\n",
    "\n",
    "R = 150 * ureg.um\n",
    "L = 500 * ureg.um\n",
    "\n",
    "_lambda = 0.1\n",
    "_kappa = 0.4\n",
    "\n",
    "# Trap parameters\n",
    "U0 = 50 * ureg.V\n",
    "V0 = 120 * ureg.V\n",
    "Omega = 2 * np.pi * 50 * ureg.MHz\n",
    "\n",
    "# curvatures\n",
    "u = _lambda * U0 / L**2\n",
    "v = _kappa * V0 / R**2\n",
    "\n",
    "# trap frequencies\n",
    "\n",
    "# stability\n",
    "a_r = 4 * Q * (-u/2) / (M * Omega**2)\n",
    "q = 2 * Q * v / (M * Omega**2)\n",
    "beta = np.sqrt(a_r + q**2/2)\n",
    "\n",
    "omega_z = np.sqrt(Q * u / M)\n",
    "omega_r = beta * Omega / 2\n",
    "\n",
    "msg = f\"\"\"a_r = {a_r.to_base_units():.2e}\n",
    "q = {q.to_base_units():.2e}\n",
    "beta = {beta.to_base_units():.2e}\n",
    "omega_z = 2pi {(omega_z / 2 / np.pi).to(ureg.MHz)}\n",
    "omega_r = 2pi {(omega_r / 2 / np.pi).to(ureg.MHz)}\n",
    "\"\"\"\n",
    "print(msg)"
   ]
  },
  {
   "cell_type": "markdown",
   "metadata": {},
   "source": [
    "# Trapping in a Penning trap"
   ]
  },
  {
   "cell_type": "code",
   "execution_count": 4,
   "metadata": {},
   "outputs": [
    {
     "name": "stdout",
     "output_type": "stream",
     "text": [
      "Minimum magnetic field: 1.08 tesla\n",
      "\n",
      "Frequency ratio: 0.38 dimensionless\n",
      "Is the trap stable? True\n",
      "omega_z = 2pi 1.303 megahertz\n",
      "omega_c = 2pi 3.412 megahertz\n",
      "omega_plus = 2pi 3.142 megahertz\n",
      "omega_minus = 2pi 0.270 megahertz\n",
      "\n"
     ]
    }
   ],
   "source": [
    "M = 9 * ureg.amu\n",
    "Q = 1 * ureg.e\n",
    "\n",
    "R = 400 * ureg.um\n",
    "V0 = 1 * ureg.V\n",
    "\n",
    "# curvature\n",
    "c = V0 / R**2\n",
    "b_min = np.sqrt(2 * M * c / Q)\n",
    "print(f\"Minimum magnetic field: {b_min.to(ureg.tesla):.2f}\\n\")\n",
    "\n",
    "b = 2 * ureg.tesla\n",
    "\n",
    "# frequencies\n",
    "omega_z = np.sqrt(Q * c / M)  # axial\n",
    "omega_c = Q * b / M  # cyclotron\n",
    "ratio = (omega_z / omega_c).to_base_units()\n",
    "trap_stable = ratio < 1/np.sqrt(2)\n",
    "\n",
    "print(f\"Frequency ratio: {ratio:.2f}\")\n",
    "print(f\"Is the trap stable? {trap_stable}\")\n",
    "\n",
    "\n",
    "omega_plus = omega_c/2 + np.sqrt(omega_c**2 - 2*omega_z**2) / 2\n",
    "omega_minus = omega_c/2 - np.sqrt(omega_c**2 - 2*omega_z**2) / 2\n",
    "\n",
    "\n",
    "msg = f\"\"\"omega_z = 2pi {(omega_z / 2 / np.pi).to(ureg.MHz)}\n",
    "omega_c = 2pi {(omega_c / 2 / np.pi).to(ureg.MHz)}\n",
    "omega_plus = 2pi {(omega_plus / 2 / np.pi).to(ureg.MHz)}\n",
    "omega_minus = 2pi {(omega_minus / 2 / np.pi).to(ureg.MHz)}\n",
    "\"\"\"\n",
    "print(msg)"
   ]
  },
  {
   "cell_type": "code",
   "execution_count": 5,
   "metadata": {},
   "outputs": [
    {
     "data": {
      "text/plain": [
       "0.7071067811865475"
      ]
     },
     "execution_count": 5,
     "metadata": {},
     "output_type": "execute_result"
    }
   ],
   "source": [
    "1/np.sqrt(2)"
   ]
  },
  {
   "cell_type": "code",
   "execution_count": 6,
   "metadata": {},
   "outputs": [
    {
     "name": "stdout",
     "output_type": "stream",
     "text": [
      "B = 3.001 tesla\n"
     ]
    }
   ],
   "source": [
    "def field_from_invariance_relation(freqs, q, m):\n",
    "    omegas = 2 * np.pi * freqs\n",
    "    omega_c = np.sqrt(np.sum(omegas**2))\n",
    "    return omega_c * m / q\n",
    "\n",
    "freqs = np.array([0.30, 1.70, 4.82]) * ureg.MHz\n",
    "b_field = field_from_invariance_relation(freqs, Q, M)\n",
    "print(f\"B = {b_field.to(ureg.tesla)}\")"
   ]
  },
  {
   "cell_type": "code",
   "execution_count": null,
   "metadata": {},
   "outputs": [],
   "source": []
  }
 ],
 "metadata": {
  "kernelspec": {
   "display_name": ".venv",
   "language": "python",
   "name": "python3"
  },
  "language_info": {
   "codemirror_mode": {
    "name": "ipython",
    "version": 3
   },
   "file_extension": ".py",
   "mimetype": "text/x-python",
   "name": "python",
   "nbconvert_exporter": "python",
   "pygments_lexer": "ipython3",
   "version": "3.12.5"
  }
 },
 "nbformat": 4,
 "nbformat_minor": 2
}
