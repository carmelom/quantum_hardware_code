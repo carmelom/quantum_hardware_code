{
 "cells": [
  {
   "attachments": {},
   "cell_type": "markdown",
   "metadata": {},
   "source": [
    "# MS gate - qutip simulation\n",
    "\n",
    "Gate between two optical qubits, implemented in the $S_{1/2} \\to D_{5/2}$ transition in $^{40}\\text{Ca}^+$ ions"
   ]
  },
  {
   "cell_type": "code",
   "execution_count": 2,
   "metadata": {},
   "outputs": [],
   "source": [
    "%reload_ext autoreload\n",
    "%autoreload 2"
   ]
  },
  {
   "cell_type": "code",
   "execution_count": 1,
   "metadata": {},
   "outputs": [],
   "source": [
    "import numpy as np\n",
    "import matplotlib.pyplot as plt\n",
    "from qutip import tensor, destroy, qeye, sigmay, basis, mesolve, sigmaz, sigmax, Options, sigmap, sigmam, thermal_dm\n"
   ]
  },
  {
   "cell_type": "code",
   "execution_count": 2,
   "metadata": {},
   "outputs": [
    {
     "data": {
      "text/latex": [
       "Quantum object: dims=[[2, 2], [2, 2]], shape=(4, 4), type='oper', dtype=CSR, isherm=True$$\\left(\\begin{array}{cc}0 & 0 & 0 & 1\\\\0 & 0 & 1 & 0\\\\0 & 1 & 0 & 0\\\\1 & 0 & 0 & 0\\end{array}\\right)$$"
      ],
      "text/plain": [
       "Quantum object: dims=[[2, 2], [2, 2]], shape=(4, 4), type='oper', dtype=CSR, isherm=True\n",
       "Qobj data =\n",
       "[[0. 0. 0. 1.]\n",
       " [0. 0. 1. 0.]\n",
       " [0. 1. 0. 0.]\n",
       " [1. 0. 0. 0.]]"
      ]
     },
     "execution_count": 2,
     "metadata": {},
     "output_type": "execute_result"
    }
   ],
   "source": [
    "A = tensor(sigmax(), qeye(2))\n",
    "B = tensor(qeye(2), sigmax())\n",
    "\n",
    "A * B"
   ]
  },
  {
   "cell_type": "code",
   "execution_count": 8,
   "metadata": {},
   "outputs": [
    {
     "data": {
      "text/latex": [
       "Quantum object: dims=[[2], [2]], shape=(2, 2), type='oper', dtype=CSR, isherm=True$$\\left(\\begin{array}{cc}1 & 0\\\\0 & -1\\end{array}\\right)$$"
      ],
      "text/plain": [
       "Quantum object: dims=[[2], [2]], shape=(2, 2), type='oper', dtype=CSR, isherm=True\n",
       "Qobj data =\n",
       "[[ 1.  0.]\n",
       " [ 0. -1.]]"
      ]
     },
     "execution_count": 8,
     "metadata": {},
     "output_type": "execute_result"
    }
   ],
   "source": [
    "sigmaz()"
   ]
  },
  {
   "cell_type": "code",
   "execution_count": 9,
   "metadata": {},
   "outputs": [
    {
     "data": {
      "text/latex": [
       "Quantum object: dims=[[2], [1]], shape=(2, 1), type='ket', dtype=Dense$$\\left(\\begin{array}{cc}1\\\\0\\end{array}\\right)$$"
      ],
      "text/plain": [
       "Quantum object: dims=[[2], [1]], shape=(2, 1), type='ket', dtype=Dense\n",
       "Qobj data =\n",
       "[[1.]\n",
       " [0.]]"
      ]
     },
     "execution_count": 9,
     "metadata": {},
     "output_type": "execute_result"
    }
   ],
   "source": [
    "basis(2, 0)"
   ]
  },
  {
   "cell_type": "code",
   "execution_count": 5,
   "metadata": {},
   "outputs": [
    {
     "data": {
      "text/latex": [
       "Quantum object: dims=[[2, 2], [2, 2]], shape=(4, 4), type='oper', dtype=CSR, isherm=True$$\\left(\\begin{array}{cc}0 & 1 & 0 & 0\\\\1 & 0 & 0 & 0\\\\0 & 0 & 0 & 1\\\\0 & 0 & 1 & 0\\end{array}\\right)$$"
      ],
      "text/plain": [
       "Quantum object: dims=[[2, 2], [2, 2]], shape=(4, 4), type='oper', dtype=CSR, isherm=True\n",
       "Qobj data =\n",
       "[[0. 1. 0. 0.]\n",
       " [1. 0. 0. 0.]\n",
       " [0. 0. 0. 1.]\n",
       " [0. 0. 1. 0.]]"
      ]
     },
     "execution_count": 5,
     "metadata": {},
     "output_type": "execute_result"
    }
   ],
   "source": [
    "B"
   ]
  },
  {
   "cell_type": "code",
   "execution_count": 3,
   "metadata": {},
   "outputs": [
    {
     "data": {
      "text/latex": [
       "Quantum object: dims=[[2, 2], [2, 2]], shape=(4, 4), type='oper', dtype=CSR, isherm=True$$\\left(\\begin{array}{cc}0 & 0 & 0 & 1\\\\0 & 0 & 1 & 0\\\\0 & 1 & 0 & 0\\\\1 & 0 & 0 & 0\\end{array}\\right)$$"
      ],
      "text/plain": [
       "Quantum object: dims=[[2, 2], [2, 2]], shape=(4, 4), type='oper', dtype=CSR, isherm=True\n",
       "Qobj data =\n",
       "[[0. 0. 0. 1.]\n",
       " [0. 0. 1. 0.]\n",
       " [0. 1. 0. 0.]\n",
       " [1. 0. 0. 0.]]"
      ]
     },
     "execution_count": 3,
     "metadata": {},
     "output_type": "execute_result"
    }
   ],
   "source": [
    "tensor(sigmax(), sigmax())"
   ]
  },
  {
   "cell_type": "code",
   "execution_count": 2,
   "metadata": {},
   "outputs": [],
   "source": [
    "import qutip\n",
    "qutip.rhs_clear()\n",
    "from tqdm import tqdm"
   ]
  },
  {
   "cell_type": "code",
   "execution_count": 10,
   "metadata": {},
   "outputs": [],
   "source": [
    "def sigma_phi(phi):\n",
    "    return np.exp(1j * phi) * sigmap() + np.exp(-1j * phi) * sigmam()"
   ]
  },
  {
   "cell_type": "code",
   "execution_count": 3,
   "metadata": {},
   "outputs": [],
   "source": [
    "from scipy.constants import kilo, mega, micro, nano, hbar, pi, atomic_mass\n",
    "\n",
    "to_khz = 1e3\n",
    "\n",
    "kHz = kilo\n",
    "MHz = mega\n",
    "us = micro\n",
    "mass = 40 * atomic_mass\n"
   ]
  },
  {
   "cell_type": "code",
   "execution_count": 31,
   "metadata": {},
   "outputs": [],
   "source": [
    "v, a = sigmax().eigenstates()"
   ]
  },
  {
   "cell_type": "code",
   "execution_count": 36,
   "metadata": {},
   "outputs": [],
   "source": [
    "import qutip"
   ]
  },
  {
   "cell_type": "code",
   "execution_count": 41,
   "metadata": {},
   "outputs": [
    {
     "data": {
      "text/plain": [
       "True"
      ]
     },
     "execution_count": 41,
     "metadata": {},
     "output_type": "execute_result"
    }
   ],
   "source": [
    "isinstance(sigmax(), qutip.Qobj)"
   ]
  },
  {
   "cell_type": "code",
   "execution_count": 35,
   "metadata": {},
   "outputs": [
    {
     "data": {
      "text/latex": [
       "Quantum object: dims=[[2], [1]], shape=(2, 1), type='ket', dtype=Dense$$\\left(\\begin{array}{cc}-0.707\\\\0.707\\end{array}\\right)$$"
      ],
      "text/plain": [
       "Quantum object: dims=[[2], [1]], shape=(2, 1), type='ket', dtype=Dense\n",
       "Qobj data =\n",
       "[[-0.70710678]\n",
       " [ 0.70710678]]"
      ]
     },
     "execution_count": 35,
     "metadata": {},
     "output_type": "execute_result"
    }
   ],
   "source": [
    "a[0]"
   ]
  },
  {
   "cell_type": "code",
   "execution_count": 26,
   "metadata": {},
   "outputs": [
    {
     "data": {
      "text/plain": [
       "'Omega1 = Omega1 * 2 * pi * 3'"
      ]
     },
     "execution_count": 26,
     "metadata": {},
     "output_type": "execute_result"
    }
   ],
   "source": [
    "param_names = dict(Omega=\"Omega1\", Delta=\"Delta\", gamma=\"gamma\")\n",
    "\"{Omega} = {Omega} * 2 * pi * 3\".format(**param_names)"
   ]
  },
  {
   "cell_type": "code",
   "execution_count": 16,
   "metadata": {},
   "outputs": [],
   "source": [
    "def sigma_op_j(sigma_op, j, N_ions):\n",
    "    \"\"\"Returns the operator sigma_op acting on the j-th ion in a chain of N_ions ions.\"\"\"\n",
    "    ops = [qeye(2) for _ in range(N_ions)]\n",
    "    ops[j] = sigma_op\n",
    "    return tensor(*ops)"
   ]
  },
  {
   "cell_type": "code",
   "execution_count": 4,
   "metadata": {},
   "outputs": [],
   "source": [
    "def sigma_op_j(sigma_op, n, j):\n",
    "    ops = [qeye(2) for _ in range(n)]\n",
    "    ops[j] = sigma_op\n",
    "    return tensor(*ops)\n",
    "\n",
    "n_ions = 2\n",
    "sigma_zs = [sigma_op_j(sigmaz(), n_ions, j) for j in range(n_ions)]\n",
    "# sigma_op_j(sigmaz(), 2, 1)\n",
    "# tensor(sigmaz(), qeye(2))"
   ]
  },
  {
   "cell_type": "code",
   "execution_count": 5,
   "metadata": {},
   "outputs": [],
   "source": [
    "g = basis(2, 0)\n",
    "e = basis(2, 1)\n",
    "\n",
    "gg = g * g.dag()\n",
    "ee = e * e.dag()\n",
    "\n",
    "U = (-1j * pi / 4 * sigmay()).expm()\n",
    "\n",
    "gx = U * gg * U.dag()\n",
    "ge = U * ee * U.dag()\n",
    "\n",
    "px = (g + e).unit()\n",
    "pxx = px * px.dag()\n"
   ]
  },
  {
   "cell_type": "code",
   "execution_count": null,
   "metadata": {},
   "outputs": [],
   "source": []
  },
  {
   "cell_type": "code",
   "execution_count": 82,
   "metadata": {},
   "outputs": [],
   "source": [
    "\n",
    "class Solver:\n",
    "\n",
    "    def __init__(self, n_max=20, \n",
    "            trap_freq=1.84, delta_ss_ptp=0.3):\n",
    "\n",
    "        # All frequencies in MHz, all times in us\n",
    "\n",
    "        self._id = id(self)\n",
    "        self.rhs_name = f\"cqobjevo_ls_{self._id}\"\n",
    "\n",
    "        nu = 2 * pi * trap_freq\n",
    "\n",
    "        lambd = 729 * nano\n",
    "        k = 2 * pi / lambd\n",
    "        q = k * np.sin(np.deg2rad(37))\n",
    "        a_ho = np.sqrt(hbar / 2 / mass / (nu * mega))\n",
    "\n",
    "        eta = k * a_ho\n",
    "        zeta = q * a_ho\n",
    "\n",
    "        self.n_max = n_max\n",
    "        self.default_args = {\n",
    "            'Delta': pi * delta_ss_ptp,\n",
    "            'nu': nu,\n",
    "            'delta': 0,\n",
    "            'phi': 0\n",
    "        }\n",
    "\n",
    "        a = destroy(n_max)\n",
    "        a_dag = a.dag()\n",
    "        id_s = qeye(2)\n",
    "        id_m = qeye(n_max)\n",
    "\n",
    "        n_ions = 2\n",
    "        sigma_zs = [sigma_op_j(sigmaz(), n_ions, j) for j in range(n_ions)]\n",
    "        Sz = sum(sigma_zs)\n",
    "\n",
    "        H_ss = [\n",
    "            [zeta * tensor(Sz, a), 'Delta * exp(-1j * nu * t) * cos((nu + 2 * pi * delta) * t + phi)'],\n",
    "            [zeta * tensor(Sz, a_dag), 'Delta * exp(1j * nu * t) * cos((nu + 2 * pi * delta) * t + phi)']\n",
    "        ]\n",
    "\n",
    "        # RWA\n",
    "        # H_ss = [\n",
    "        #     [zeta * tensor(Sz, a), 'Delta * exp(-1j * (phi + 2 * pi * delta * t))'],\n",
    "        #     [zeta * tensor(Sz, a_dag), 'Delta * exp(1j * (phi + 2 * pi * delta * t))']\n",
    "        # ]\n",
    "\n",
    "        self.H = H_ss\n",
    "        # H = H_car + H_rsb + H_bsb\n",
    "        # H = H_car\n",
    "\n",
    "        g = basis(2, 0)\n",
    "        gg = g * g.dag()\n",
    "        e = basis(2, 1)\n",
    "        ee = e * e.dag()\n",
    "\n",
    "        gx = sigmax() * gg * sigmax()\n",
    "        ex = sigmax() * ee * sigmax()\n",
    "\n",
    "        U = (-1j * pi / 4 * sigmay()).expm()\n",
    "\n",
    "        gx = U * gg * U.dag()  # project on (g + e)\n",
    "        ex = U * ee * U.dag()  # project on (g - e)\n",
    "\n",
    "        p2 = tensor(gg, gg)\n",
    "        p1 = tensor(gg, ee) + tensor(ee, gg)\n",
    "        p0 = tensor(ee, ee)\n",
    "\n",
    "        p2x = tensor(gx, gx)\n",
    "        p1x = tensor(gx, ex) + tensor(ex, gx)\n",
    "        p0x = tensor(ex, ex)\n",
    "\n",
    "        bell_state0 = (tensor(g, g) + tensor(e, e)).unit()\n",
    "        bell_state1 = (tensor(g, g) - tensor(e, e)).unit()\n",
    "        bell_state2 = (tensor(g, e) + tensor(e, g)).unit()\n",
    "        bell_state3 = (tensor(g, e) - tensor(e, g)).unit()\n",
    "\n",
    "        self.e_ops = {\n",
    "            'p2': tensor(p2, id_m),\n",
    "            'p1': tensor(p1, id_m),\n",
    "            'p0': tensor(p0, id_m),\n",
    "            'p2x': tensor(p2x, id_m),\n",
    "            'p1x': tensor(p1x, id_m),\n",
    "            'p0x': tensor(p0x, id_m),\n",
    "            'bell_state0': tensor(bell_state0 * bell_state0.dag(), id_m),\n",
    "            'bell_state1': tensor(bell_state1 * bell_state1.dag(), id_m),\n",
    "            'bell_state2': tensor(bell_state2 * bell_state2.dag(), id_m),\n",
    "            'bell_state3': tensor(bell_state3 * bell_state3.dag(), id_m),\n",
    "            'x': tensor(id_s, id_s, a + a_dag),\n",
    "            'p': tensor(id_s, id_s, 1j * (a_dag  - a)),\n",
    "            'n': tensor(id_s, id_s, a_dag * a),\n",
    "            'x1g': tensor(gg, id_s, a + a_dag),\n",
    "            'p1g': tensor(gg, id_s, 1j * (a_dag - a)),\n",
    "            'x1e': tensor(ee, id_s, a + a_dag),\n",
    "            'p1e': tensor(ee, id_s, 1j * (a_dag - a)),\n",
    "        }\n",
    "\n",
    "        self.options = Options()\n",
    "        # self.options.nsteps = 1e4\n",
    "        # self.options.max_step = max_step\n",
    "        self.options.rhs_with_state = True\n",
    "        self.options.rhs_reuse = True\n",
    "        self.options.rhs_filename = self.rhs_name\n",
    "\n",
    "        # qutip.rhs_generate(self.H, c_ops=[], args=self.default_args, name=self.rhs_name)\n",
    "\n",
    "    def make_psi0(self, s0, n0, nbar):\n",
    "        if nbar is not None:\n",
    "            psi_m = thermal_dm(self.n_max, nbar)\n",
    "        else:\n",
    "            psi_m = basis(self.n_max, n0) * basis(self.n_max, n0).dag()\n",
    "        if s0 == 'z':\n",
    "            psi_s = basis(2, 0) * basis(2, 0).dag()\n",
    "        elif s0 == 'x':\n",
    "            px = (basis(2, 0) + basis(2, 1)).unit()\n",
    "            psi_s = px * px.dag()\n",
    "        return tensor(psi_s, psi_s, psi_m)\n",
    "\n",
    "\n",
    "    def run_t(self, t, s0='z', n0=0, nbar=None, args={}, **kwargs):\n",
    "        psi0 = self.make_psi0(s0, n0, nbar)\n",
    "        _args = self.default_args.copy()\n",
    "        _args.update(args)\n",
    "        result = mesolve(self.H, psi0, t, c_ops=None, e_ops=self.e_ops,\n",
    "                         args=_args, options=self.options, **kwargs)\n",
    "        return result\n",
    "\n",
    "    # def run_delta(self, delta, n0=0, nbar=None, t=None, dt=10, args={}):\n",
    "    #     t = np.arange(0, self.pi_time + dt, dt) if t is None else t\n",
    "    #     p_g = np.zeros_like(delta)\n",
    "\n",
    "    #     for j, _delta in enumerate(tqdm(delta)):\n",
    "    #         args = {'delta': _delta}\n",
    "    #         _p_g = self.run_t(t, n0, nbar, args)\n",
    "    #         p_g[j] = _p_g[-1]\n",
    "\n",
    "    #     return p_g\n",
    "\n",
    "    # def _parallel_task(self, delta, t, n0, nbar):\n",
    "    #     return self.run_t(t, n0, nbar, args={'delta': delta})[-1]\n",
    "\n",
    "\n",
    "    # def _run_delta_par(self, delta, n0=0, nbar=None, t=None, dt=10, args={}):\n",
    "    #     t = np.arange(0, self.pi_time + dt, dt) if t is None else t\n",
    "\n",
    "\n",
    "    #     p_g = qutip.parallel.parallel_map(self._parallel_task, delta, task_args=(t, n0, nbar), progress_bar=True)\n",
    "    #     return np.asarray(p_g)\n"
   ]
  },
  {
   "cell_type": "code",
   "execution_count": 88,
   "metadata": {},
   "outputs": [],
   "source": [
    "qutip.rhs_clear()"
   ]
  },
  {
   "cell_type": "code",
   "execution_count": 89,
   "metadata": {},
   "outputs": [],
   "source": [
    "# %%timeit -r 1 -n 1\n",
    "\n",
    "n_max = 30\n",
    "pi_time = 200\n",
    "trap_freq = 1.3\n",
    "\n",
    "nu = 2 * pi * trap_freq\n",
    "\n",
    "lambd = 729 * nano\n",
    "k = 2 * pi / lambd\n",
    "q = k * np.sin(np.deg2rad(37))\n",
    "a_ho = np.sqrt(hbar / 2 / mass / (nu * mega))\n",
    "\n",
    "eta = k * a_ho\n",
    "zeta = eta * np.sin(np.deg2rad(37))\n",
    "delta_ss_ptp = 0.3\n",
    "f_force = zeta * delta_ss_ptp / 2\n",
    "\n",
    "# delta_nu_khz = q**2 * hbar * Delta_ss_ptp_khz / 2 / mass / (2 * pi * trap_freq * mega)\n",
    "\n",
    "sol = Solver(trap_freq=trap_freq, delta_ss_ptp=delta_ss_ptp, n_max=n_max)\n"
   ]
  },
  {
   "cell_type": "code",
   "execution_count": 94,
   "metadata": {},
   "outputs": [
    {
     "name": "stdout",
     "output_type": "stream",
     "text": [
      "2.0\n",
      "15.340642443268171\n",
      "130.37263643920247\n"
     ]
    },
    {
     "data": {
      "image/png": "[encoded data removed]",
      "text/plain": [
       "<Figure size 432x288 with 1 Axes>"
      ]
     },
     "metadata": {
      "needs_background": "light"
     },
     "output_type": "display_data"
    }
   ],
   "source": [
    "\n",
    "dt = 0.05\n",
    "# t1 = 100\n",
    "\n",
    "n_loops = 2\n",
    "phase_pi = 1\n",
    "m = 2 * np.sqrt(n_loops / phase_pi / 2)\n",
    "print(m)\n",
    "print(delta * to_khz)\n",
    "\n",
    "delta = m * f_force\n",
    "t1 = n_loops / delta\n",
    "print(t1)\n",
    "t = np.linspace(0, t1, int(t1 / dt))\n",
    "res = sol.run_t(t, s0='x', n0=0, args={'delta': delta}, progress_bar=None)\n",
    "# res2 = sol2.run_t(t, s0='z', n0=0, args={'delta': delta}, progress_bar=None)\n",
    "plt.plot(res.expect['x'], res.expect['p'])\n",
    "\n",
    "plt.gca().set_aspect(1)\n",
    "plt.grid()\n"
   ]
  },
  {
   "cell_type": "code",
   "execution_count": 91,
   "metadata": {},
   "outputs": [
    {
     "data": {
      "image/png": "[encoded data removed]",
      "text/plain": [
       "<Figure size 864x288 with 2 Axes>"
      ]
     },
     "metadata": {
      "needs_background": "light"
     },
     "output_type": "display_data"
    }
   ],
   "source": [
    "fig, (ax, axx) = plt.subplots(1, 2, figsize=(12, 4))\n",
    "ax.plot(t, res.expect['n'])\n",
    "\n",
    "\n",
    "# plt.plot(t, res.expect['pxx'])\n",
    "# plt.figure(figsize=(5, 5))\n",
    "axx.plot(res.expect['x1g'], res.expect['p1g'])\n",
    "axx.plot(res.expect['x1e'], res.expect['p1e'])\n",
    "# plt.gca().set_aspect(1)\n",
    "# plt.grid()\n",
    "\n",
    "# plt.plot(res2.expect['x1gg'], res2.expect['p1gg'])\n",
    "# plt.plot(res2.expect['x1ge'], res2.expect['p1ge'])\n",
    "\n",
    "# # plt.plot(res2.expect['x1g'], res2.expect['p1g'])\n",
    "# plt.plot(res2.expect['x1e'], res2.expect['p1e'])\n",
    "\n",
    "\n",
    "axx.set_aspect(1)\n",
    "axx.grid()\n"
   ]
  },
  {
   "cell_type": "code",
   "execution_count": 92,
   "metadata": {},
   "outputs": [
    {
     "data": {
      "text/plain": [
       "[<matplotlib.lines.Line2D at 0x215e24391b0>]"
      ]
     },
     "execution_count": 92,
     "metadata": {},
     "output_type": "execute_result"
    },
    {
     "data": {
      "image/png": "[encoded data removed]",
      "text/plain": [
       "<Figure size 1296x288 with 3 Axes>"
      ]
     },
     "metadata": {
      "needs_background": "light"
     },
     "output_type": "display_data"
    }
   ],
   "source": [
    "fig, (ax, axx, ax2) = plt.subplots(1, 3, figsize=(18, 4), sharey=True)\n",
    "\n",
    "ax.plot(t, res.expect['p2'])\n",
    "ax.plot(t, res.expect['p1'])\n",
    "ax.plot(t, res.expect['p0'])\n",
    "\n",
    "# plt.plot(t, res.expect['pxx'])\n",
    "\n",
    "axx.plot(t, res.expect['p2x'])\n",
    "axx.plot(t, res.expect['p1x'])\n",
    "axx.plot(t, res.expect['p0x'])\n",
    "\n",
    "ax2.plot(t, res.expect['bell_state0'])\n",
    "ax2.plot(t, res.expect['bell_state1'])\n",
    "ax2.plot(t, res.expect['bell_state2'])\n",
    "ax2.plot(t, res.expect['bell_state3'])\n"
   ]
  },
  {
   "cell_type": "code",
   "execution_count": 93,
   "metadata": {},
   "outputs": [
    {
     "data": {
      "text/plain": [
       "[<matplotlib.lines.Line2D at 0x215e26b1420>]"
      ]
     },
     "execution_count": 93,
     "metadata": {},
     "output_type": "execute_result"
    },
    {
     "data": {
      "image/png": "[encoded data removed]",
      "text/plain": [
       "<Figure size 432x288 with 1 Axes>"
      ]
     },
     "metadata": {
      "needs_background": "light"
     },
     "output_type": "display_data"
    }
   ],
   "source": [
    "plt.plot(t, res.expect['n'])"
   ]
  },
  {
   "cell_type": "code",
   "execution_count": 51,
   "metadata": {},
   "outputs": [
    {
     "name": "stdout",
     "output_type": "stream",
     "text": [
      "0\n"
     ]
    },
    {
     "ename": "KeyboardInterrupt",
     "evalue": "",
     "output_type": "error",
     "traceback": [
      "\u001b[1;31m---------------------------------------------------------------------------\u001b[0m",
      "\u001b[1;31mKeyboardInterrupt\u001b[0m                         Traceback (most recent call last)",
      "\u001b[1;32mc:\\Users\\carmelo\\notebooks\\sw_ls_gate_qutip.ipynb Cell 14\u001b[0m in \u001b[0;36m<cell line: 1>\u001b[1;34m()\u001b[0m\n\u001b[0;32m      <a href='vscode-notebook-cell:/c%3A/Users/carmelo/notebooks/sw_ls_gate_qutip.ipynb#X20sZmlsZQ%3D%3D?line=2'>3</a>\u001b[0m     \u001b[39mprint\u001b[39m(k)\n\u001b[0;32m      <a href='vscode-notebook-cell:/c%3A/Users/carmelo/notebooks/sw_ls_gate_qutip.ipynb#X20sZmlsZQ%3D%3D?line=3'>4</a>\u001b[0m     delta \u001b[39m=\u001b[39m k \u001b[39m*\u001b[39m f_force\n\u001b[1;32m----> <a href='vscode-notebook-cell:/c%3A/Users/carmelo/notebooks/sw_ls_gate_qutip.ipynb#X20sZmlsZQ%3D%3D?line=4'>5</a>\u001b[0m     res \u001b[39m=\u001b[39m sol\u001b[39m.\u001b[39;49mrun_t(t, s0\u001b[39m=\u001b[39;49m\u001b[39m'\u001b[39;49m\u001b[39mz\u001b[39;49m\u001b[39m'\u001b[39;49m, n0\u001b[39m=\u001b[39;49m\u001b[39m0\u001b[39;49m, args\u001b[39m=\u001b[39;49m{\u001b[39m'\u001b[39;49m\u001b[39mdelta\u001b[39;49m\u001b[39m'\u001b[39;49m: delta}, progress_bar\u001b[39m=\u001b[39;49m\u001b[39mNone\u001b[39;49;00m)\n\u001b[0;32m      <a href='vscode-notebook-cell:/c%3A/Users/carmelo/notebooks/sw_ls_gate_qutip.ipynb#X20sZmlsZQ%3D%3D?line=5'>6</a>\u001b[0m     plt\u001b[39m.\u001b[39mplot(res\u001b[39m.\u001b[39mexpect[\u001b[39m'\u001b[39m\u001b[39mx\u001b[39m\u001b[39m'\u001b[39m], res\u001b[39m.\u001b[39mexpect[\u001b[39m'\u001b[39m\u001b[39mp\u001b[39m\u001b[39m'\u001b[39m])\n\u001b[0;32m      <a href='vscode-notebook-cell:/c%3A/Users/carmelo/notebooks/sw_ls_gate_qutip.ipynb#X20sZmlsZQ%3D%3D?line=6'>7</a>\u001b[0m \u001b[39m# plt.ylim(-0.05, 1.05)\u001b[39;00m\n",
      "\u001b[1;32mc:\\Users\\carmelo\\notebooks\\sw_ls_gate_qutip.ipynb Cell 14\u001b[0m in \u001b[0;36mSolver.run_t\u001b[1;34m(self, t, s0, n0, nbar, args, **kwargs)\u001b[0m\n\u001b[0;32m    <a href='vscode-notebook-cell:/c%3A/Users/carmelo/notebooks/sw_ls_gate_qutip.ipynb#X20sZmlsZQ%3D%3D?line=122'>123</a>\u001b[0m _args \u001b[39m=\u001b[39m \u001b[39mself\u001b[39m\u001b[39m.\u001b[39mdefault_args\u001b[39m.\u001b[39mcopy()\n\u001b[0;32m    <a href='vscode-notebook-cell:/c%3A/Users/carmelo/notebooks/sw_ls_gate_qutip.ipynb#X20sZmlsZQ%3D%3D?line=123'>124</a>\u001b[0m _args\u001b[39m.\u001b[39mupdate(args)\n\u001b[1;32m--> <a href='vscode-notebook-cell:/c%3A/Users/carmelo/notebooks/sw_ls_gate_qutip.ipynb#X20sZmlsZQ%3D%3D?line=124'>125</a>\u001b[0m result \u001b[39m=\u001b[39m mesolve(\u001b[39mself\u001b[39m\u001b[39m.\u001b[39mH, psi0, t, c_ops\u001b[39m=\u001b[39m\u001b[39mNone\u001b[39;00m, e_ops\u001b[39m=\u001b[39m\u001b[39mself\u001b[39m\u001b[39m.\u001b[39me_ops,\n\u001b[0;32m    <a href='vscode-notebook-cell:/c%3A/Users/carmelo/notebooks/sw_ls_gate_qutip.ipynb#X20sZmlsZQ%3D%3D?line=125'>126</a>\u001b[0m                  args\u001b[39m=\u001b[39m_args, options\u001b[39m=\u001b[39m\u001b[39mself\u001b[39m\u001b[39m.\u001b[39moptions, \u001b[39m*\u001b[39m\u001b[39m*\u001b[39mkwargs)\n\u001b[0;32m    <a href='vscode-notebook-cell:/c%3A/Users/carmelo/notebooks/sw_ls_gate_qutip.ipynb#X20sZmlsZQ%3D%3D?line=126'>127</a>\u001b[0m \u001b[39mreturn\u001b[39;00m result\n",
      "File \u001b[1;32mc:\\Users\\carmelo\\scoop\\apps\\python\\current\\lib\\site-packages\\qutip\\mesolve.py:244\u001b[0m, in \u001b[0;36mmesolve\u001b[1;34m(H, rho0, tlist, c_ops, e_ops, args, options, progress_bar, _safe_mode)\u001b[0m\n\u001b[0;32m    241\u001b[0m     v \u001b[39m=\u001b[39m rho0\u001b[39m.\u001b[39mfull()\u001b[39m.\u001b[39mravel(\u001b[39m'\u001b[39m\u001b[39mF\u001b[39m\u001b[39m'\u001b[39m)\n\u001b[0;32m    242\u001b[0m     func(\u001b[39m0.\u001b[39m, v, \u001b[39m*\u001b[39mode_args) \u001b[39m+\u001b[39m v\n\u001b[1;32m--> 244\u001b[0m res \u001b[39m=\u001b[39m _generic_ode_solve(func, ode_args, rho0, tlist, e_ops, options,\n\u001b[0;32m    245\u001b[0m                          progress_bar, dims\u001b[39m=\u001b[39;49mrho0\u001b[39m.\u001b[39;49mdims)\n\u001b[0;32m    246\u001b[0m res\u001b[39m.\u001b[39mnum_collapse \u001b[39m=\u001b[39m \u001b[39mlen\u001b[39m(c_ops)\n\u001b[0;32m    248\u001b[0m \u001b[39mif\u001b[39;00m e_ops_dict:\n",
      "File \u001b[1;32mc:\\Users\\carmelo\\scoop\\apps\\python\\current\\lib\\site-packages\\qutip\\mesolve.py:526\u001b[0m, in \u001b[0;36m_generic_ode_solve\u001b[1;34m(func, ode_args, rho0, tlist, e_ops, opt, progress_bar, dims)\u001b[0m\n\u001b[0;32m    521\u001b[0m         output\u001b[39m.\u001b[39mexpect[m][t_idx] \u001b[39m=\u001b[39m expect_rho_vec(e_ops_data[m], r\u001b[39m.\u001b[39my,\n\u001b[0;32m    522\u001b[0m                                                  e_ops[m]\u001b[39m.\u001b[39misherm\n\u001b[0;32m    523\u001b[0m                                                  \u001b[39mand\u001b[39;00m rho0\u001b[39m.\u001b[39misherm)\n\u001b[0;32m    525\u001b[0m     \u001b[39mif\u001b[39;00m t_idx \u001b[39m<\u001b[39m n_tsteps \u001b[39m-\u001b[39m \u001b[39m1\u001b[39m:\n\u001b[1;32m--> 526\u001b[0m         r\u001b[39m.\u001b[39;49mintegrate(r\u001b[39m.\u001b[39;49mt \u001b[39m+\u001b[39;49m dt[t_idx])\n\u001b[0;32m    528\u001b[0m progress_bar\u001b[39m.\u001b[39mfinished()\n\u001b[0;32m    530\u001b[0m \u001b[39mif\u001b[39;00m opt\u001b[39m.\u001b[39mstore_final_state:\n",
      "File \u001b[1;32mc:\\Users\\carmelo\\scoop\\apps\\python\\current\\lib\\site-packages\\scipy\\integrate\\_ode.py:433\u001b[0m, in \u001b[0;36mode.integrate\u001b[1;34m(self, t, step, relax)\u001b[0m\n\u001b[0;32m    430\u001b[0m     mth \u001b[39m=\u001b[39m \u001b[39mself\u001b[39m\u001b[39m.\u001b[39m_integrator\u001b[39m.\u001b[39mrun\n\u001b[0;32m    432\u001b[0m \u001b[39mtry\u001b[39;00m:\n\u001b[1;32m--> 433\u001b[0m     \u001b[39mself\u001b[39m\u001b[39m.\u001b[39m_y, \u001b[39mself\u001b[39m\u001b[39m.\u001b[39mt \u001b[39m=\u001b[39m mth(\u001b[39mself\u001b[39;49m\u001b[39m.\u001b[39;49mf, \u001b[39mself\u001b[39;49m\u001b[39m.\u001b[39;49mjac \u001b[39mor\u001b[39;49;00m (\u001b[39mlambda\u001b[39;49;00m: \u001b[39mNone\u001b[39;49;00m),\n\u001b[0;32m    434\u001b[0m                           \u001b[39mself\u001b[39;49m\u001b[39m.\u001b[39;49m_y, \u001b[39mself\u001b[39;49m\u001b[39m.\u001b[39;49mt, t,\n\u001b[0;32m    435\u001b[0m                           \u001b[39mself\u001b[39;49m\u001b[39m.\u001b[39;49mf_params, \u001b[39mself\u001b[39;49m\u001b[39m.\u001b[39;49mjac_params)\n\u001b[0;32m    436\u001b[0m \u001b[39mexcept\u001b[39;00m \u001b[39mSystemError\u001b[39;00m \u001b[39mas\u001b[39;00m e:\n\u001b[0;32m    437\u001b[0m     \u001b[39m# f2py issue with tuple returns, see ticket 1187.\u001b[39;00m\n\u001b[0;32m    438\u001b[0m     \u001b[39mraise\u001b[39;00m \u001b[39mValueError\u001b[39;00m(\n\u001b[0;32m    439\u001b[0m         \u001b[39m'\u001b[39m\u001b[39mFunction to integrate must not return a tuple.\u001b[39m\u001b[39m'\u001b[39m\n\u001b[0;32m    440\u001b[0m     ) \u001b[39mfrom\u001b[39;00m \u001b[39me\u001b[39;00m\n",
      "File \u001b[1;32mc:\\Users\\carmelo\\scoop\\apps\\python\\current\\lib\\site-packages\\scipy\\integrate\\_ode.py:1009\u001b[0m, in \u001b[0;36mvode.run\u001b[1;34m(self, f, jac, y0, t0, t1, f_params, jac_params)\u001b[0m\n\u001b[0;32m   1005\u001b[0m     jac \u001b[39m=\u001b[39m _vode_banded_jac_wrapper(jac, \u001b[39mself\u001b[39m\u001b[39m.\u001b[39mml, jac_params)\n\u001b[0;32m   1007\u001b[0m args \u001b[39m=\u001b[39m ((f, jac, y0, t0, t1) \u001b[39m+\u001b[39m \u001b[39mtuple\u001b[39m(\u001b[39mself\u001b[39m\u001b[39m.\u001b[39mcall_args) \u001b[39m+\u001b[39m\n\u001b[0;32m   1008\u001b[0m         (f_params, jac_params))\n\u001b[1;32m-> 1009\u001b[0m y1, t, istate \u001b[39m=\u001b[39m \u001b[39mself\u001b[39;49m\u001b[39m.\u001b[39;49mrunner(\u001b[39m*\u001b[39;49margs)\n\u001b[0;32m   1010\u001b[0m \u001b[39mself\u001b[39m\u001b[39m.\u001b[39mistate \u001b[39m=\u001b[39m istate\n\u001b[0;32m   1011\u001b[0m \u001b[39mif\u001b[39;00m istate \u001b[39m<\u001b[39m \u001b[39m0\u001b[39m:\n",
      "\u001b[1;31mKeyboardInterrupt\u001b[0m: "
     ]
    }
   ],
   "source": [
    "for k in 0, 1, 2, 4, 6, 10, 20:\n",
    "    # for k in [0]:\n",
    "    print(k)\n",
    "    delta = k * f_force\n",
    "    res = sol.run_t(t, s0='z', n0=0, args={'delta': delta}, progress_bar=None)\n",
    "    plt.plot(res.expect['x'], res.expect['p'])\n",
    "# plt.ylim(-0.05, 1.05)\n",
    "plt.gca().set_aspect(1)\n",
    "plt.grid()\n"
   ]
  },
  {
   "cell_type": "code",
   "execution_count": 12,
   "metadata": {},
   "outputs": [
    {
     "data": {
      "text/plain": [
       "77.55212238711506"
      ]
     },
     "execution_count": 12,
     "metadata": {},
     "output_type": "execute_result"
    }
   ],
   "source": [
    "0.5 / f_force"
   ]
  },
  {
   "cell_type": "code",
   "execution_count": null,
   "metadata": {},
   "outputs": [],
   "source": [
    "plt.plot(t, p.expect['p2'])\n",
    "\n",
    "plt.ylim(-0.05, 1.05)\n"
   ]
  },
  {
   "cell_type": "code",
   "execution_count": null,
   "metadata": {},
   "outputs": [],
   "source": [
    "plt.plot(p.expect['x'], p.expect['p'])\n",
    "\n",
    "# plt.ylim(-0.05, 1.05)\n"
   ]
  },
  {
   "cell_type": "code",
   "execution_count": null,
   "metadata": {},
   "outputs": [],
   "source": [
    "delta = np.linspace(-20, 20, 51) * 1e-3\n",
    "\n",
    "# dt = 10\n",
    "# t = np.arange(0, 1000 + dt, dt)\n",
    "p_g0 = sol.run_delta(delta, dt=10)\n",
    "plt.plot(delta * to_khz, p_g0)\n",
    "\n",
    "p_g = sol2.run_delta(delta, dt=10)\n",
    "plt.plot(delta * to_khz, p_g)\n"
   ]
  },
  {
   "cell_type": "code",
   "execution_count": null,
   "metadata": {},
   "outputs": [],
   "source": [
    "delta = np.linspace(-20, 20, 51) * 1e-3\n",
    "\n",
    "nbar = 2.5\n",
    "plt.plot(delta * to_khz, p_g0, 'k')\n",
    "\n",
    "\n",
    "p_g = sol2.run_delta(delta, n0=0, dt=20)\n",
    "plt.plot(delta * to_khz, p_g)\n",
    "\n",
    "p_g = sol2.run_delta(delta, n0=1, dt=20)\n",
    "plt.plot(delta * to_khz, p_g)\n",
    "\n",
    "p_g = sol2.run_delta(delta, nbar=nbar, dt=20)\n",
    "plt.plot(delta * to_khz, p_g)\n"
   ]
  },
  {
   "cell_type": "code",
   "execution_count": null,
   "metadata": {},
   "outputs": [],
   "source": [
    "delta = np.linspace(-2, 20, 81) * 1e-3 + trap_freq\n",
    "\n",
    "nbar = 2.5\n",
    "# plt.plot(delta * to_khz, p_g0, 'k')\n",
    "\n",
    "dt = 100\n",
    "sb_pi_time = sol.pi_time / eta\n",
    "t = np.linspace(0, sb_pi_time, int(round(sb_pi_time / dt)))\n",
    "\n",
    "p_g = sol2.run_delta(delta, n0=0, t=t)\n",
    "plt.plot(delta * to_khz, p_g)\n",
    "\n",
    "p_g = sol2.run_delta(delta, n0=1, t=t)\n",
    "plt.plot(delta * to_khz, p_g)\n",
    "\n",
    "p_g = sol2.run_delta(delta, nbar=nbar, t=t)\n",
    "plt.plot(delta * to_khz, p_g)\n"
   ]
  },
  {
   "cell_type": "code",
   "execution_count": null,
   "metadata": {},
   "outputs": [],
   "source": [
    "# n_max = 10\n",
    "# pi_time = 2\n",
    "# trap_freq = 1.84\n",
    "\n",
    "# sol0 = Solver(trap_freq=trap_freq, pi_time=pi_time, delta_ss_ptp=0, n_max=n_max)\n",
    "\n",
    "\n",
    "# rabi_freq = 0.5 / pi_time\n",
    "# delta = trap_freq\n",
    "\n",
    "dt = 200\n",
    "sb_pi_time = sol.pi_time / eta\n",
    "t = np.linspace(0, sb_pi_time, int(round(sb_pi_time / dt)))\n",
    "p = sol.run_t(t, n0=0, args={'delta': trap_freq})\n",
    "plt.plot(t, p)\n"
   ]
  },
  {
   "cell_type": "code",
   "execution_count": null,
   "metadata": {},
   "outputs": [],
   "source": [
    "eta"
   ]
  },
  {
   "cell_type": "code",
   "execution_count": null,
   "metadata": {},
   "outputs": [],
   "source": [
    "\n",
    "# H = [\n",
    "#     [sigmap(), 'Omega * exp(1j * delta * t)'],\n",
    "#     [sigmam(), 'Omega * exp(-1j * delta * t)']\n",
    "# ]\n",
    "\n",
    "# g = basis(2, 0)\n",
    "\n",
    "# e_ops = [g * g.dag()]\n",
    "\n",
    "# t = np.linspace(0, 4)\n",
    "\n",
    "# options = Options()\n",
    "# options.rhs_filename = None\n",
    "# options.rhs_reuse = True\n",
    "# args = {'Omega': 1, 'delta': 2}\n",
    "\n",
    "# # qutip.rhs_generate(H, c_ops=[], args=args, options=options, name=options.rhs_filename, cleanup=False)\n",
    "\n",
    "\n",
    "# %timeit -r 3 -n 1 result = mesolve(H, g, t, c_ops=None, e_ops=e_ops, args=args, options=options)\n",
    "\n",
    "# plt.plot(t, result.expect[0])\n"
   ]
  },
  {
   "cell_type": "code",
   "execution_count": null,
   "metadata": {},
   "outputs": [],
   "source": [
    "# qutip.rhs_clear()\n",
    "\n",
    "# qutip.about()"
   ]
  },
  {
   "cell_type": "code",
   "execution_count": null,
   "metadata": {},
   "outputs": [],
   "source": []
  }
 ],
 "metadata": {
  "kernelspec": {
   "display_name": "Python 3",
   "language": "python",
   "name": "python3"
  },
  "language_info": {
   "codemirror_mode": {
    "name": "ipython",
    "version": 3
   },
   "file_extension": ".py",
   "mimetype": "text/x-python",
   "name": "python",
   "nbconvert_exporter": "python",
   "pygments_lexer": "ipython3",
   "version": "3.10.4"
  },
  "vscode": {
   "interpreter": {
    "hash": "91249f650c08f66b859a002bf164378435a08fb1f34b8d0fd6d8e80615588ec2"
   }
  }
 },
 "nbformat": 4,
 "nbformat_minor": 2
}
